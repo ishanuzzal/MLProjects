{
  "nbformat": 4,
  "nbformat_minor": 0,
  "metadata": {
    "colab": {
      "provenance": []
    },
    "kernelspec": {
      "name": "python3",
      "display_name": "Python 3"
    },
    "language_info": {
      "name": "python"
    }
  },
  "cells": [
    {
      "cell_type": "markdown",
      "source": [
        "# Installation and Environment set up"
      ],
      "metadata": {
        "id": "lJ2WeEQuOYDC"
      }
    },
    {
      "cell_type": "code",
      "execution_count": null,
      "metadata": {
        "colab": {
          "base_uri": "https://localhost:8080/"
        },
        "id": "XuEzMmT7jSWG",
        "outputId": "992ebb15-4d98-447d-9ea0-8520e518c415"
      },
      "outputs": [
        {
          "output_type": "stream",
          "name": "stdout",
          "text": [
            "Mounted at /content/drive\n"
          ]
        }
      ],
      "source": [
        "from google.colab import drive\n",
        "drive.mount('/content/drive')"
      ]
    },
    {
      "cell_type": "code",
      "source": [
        "!pwd #clear prompt before exceute\n",
        "!wget https://dlcdn.apache.org/spark/spark-3.4.1/spark-3.4.1-bin-hadoop3.tgz"
      ],
      "metadata": {
        "colab": {
          "base_uri": "https://localhost:8080/"
        },
        "id": "n7XIZtHJjgjc",
        "outputId": "371994a5-8528-44e7-f7e4-f82a36807b30"
      },
      "execution_count": null,
      "outputs": [
        {
          "output_type": "stream",
          "name": "stdout",
          "text": [
            "/content\n",
            "--2023-11-27 06:22:08--  https://dlcdn.apache.org/spark/spark-3.4.1/spark-3.4.1-bin-hadoop3.tgz\n",
            "Resolving dlcdn.apache.org (dlcdn.apache.org)... 151.101.2.132, 2a04:4e42::644\n",
            "Connecting to dlcdn.apache.org (dlcdn.apache.org)|151.101.2.132|:443... connected.\n",
            "HTTP request sent, awaiting response... 200 OK\n",
            "Length: 388341449 (370M) [application/x-gzip]\n",
            "Saving to: ‘spark-3.4.1-bin-hadoop3.tgz’\n",
            "\n",
            "spark-3.4.1-bin-had 100%[===================>] 370.35M   112MB/s    in 3.2s    \n",
            "\n",
            "2023-11-27 06:22:12 (114 MB/s) - ‘spark-3.4.1-bin-hadoop3.tgz’ saved [388341449/388341449]\n",
            "\n"
          ]
        }
      ]
    },
    {
      "cell_type": "code",
      "source": [
        "%%capture\n",
        "!tar xvzf spark-3.4.1-bin-hadoop3.tgz"
      ],
      "metadata": {
        "id": "XuNwi_ZHjoms"
      },
      "execution_count": null,
      "outputs": []
    },
    {
      "cell_type": "code",
      "source": [
        "%%capture\n",
        "!pip install findspark"
      ],
      "metadata": {
        "id": "k03l29mRjtEo"
      },
      "execution_count": null,
      "outputs": []
    },
    {
      "cell_type": "code",
      "source": [
        "import os\n",
        "os.environ['Spark_Home'] = \"/content/spark-3.4.1-bin-hadoop3\"\n",
        "\n",
        "import findspark\n",
        "findspark.init"
      ],
      "metadata": {
        "colab": {
          "base_uri": "https://localhost:8080/"
        },
        "id": "BFXCZpR9jwkn",
        "outputId": "2b3a1b13-e9af-4e70-dec5-c4a8cefcb1e5"
      },
      "execution_count": null,
      "outputs": [
        {
          "output_type": "execute_result",
          "data": {
            "text/plain": [
              "<function findspark.init(spark_home=None, python_path=None, edit_rc=False, edit_profile=False)>"
            ]
          },
          "metadata": {},
          "execution_count": 5
        }
      ]
    },
    {
      "cell_type": "code",
      "source": [
        "!pip install pyspark"
      ],
      "metadata": {
        "colab": {
          "base_uri": "https://localhost:8080/"
        },
        "id": "xjtORh2-jy8M",
        "outputId": "d0bd75d4-c988-42d6-81f2-8191b9f75434"
      },
      "execution_count": null,
      "outputs": [
        {
          "output_type": "stream",
          "name": "stdout",
          "text": [
            "Collecting pyspark\n",
            "  Downloading pyspark-3.5.0.tar.gz (316.9 MB)\n",
            "\u001b[2K     \u001b[90m━━━━━━━━━━━━━━━━━━━━━━━━━━━━━━━━━━━━━━━━\u001b[0m \u001b[32m316.9/316.9 MB\u001b[0m \u001b[31m4.2 MB/s\u001b[0m eta \u001b[36m0:00:00\u001b[0m\n",
            "\u001b[?25h  Preparing metadata (setup.py) ... \u001b[?25l\u001b[?25hdone\n",
            "Requirement already satisfied: py4j==0.10.9.7 in /usr/local/lib/python3.10/dist-packages (from pyspark) (0.10.9.7)\n",
            "Building wheels for collected packages: pyspark\n",
            "  Building wheel for pyspark (setup.py) ... \u001b[?25l\u001b[?25hdone\n",
            "  Created wheel for pyspark: filename=pyspark-3.5.0-py2.py3-none-any.whl size=317425344 sha256=5a2e4f4d5cde8d87d383cf71cf5876182d7f9a063e636792a3420de0f8d386ba\n",
            "  Stored in directory: /root/.cache/pip/wheels/41/4e/10/c2cf2467f71c678cfc8a6b9ac9241e5e44a01940da8fbb17fc\n",
            "Successfully built pyspark\n",
            "Installing collected packages: pyspark\n",
            "Successfully installed pyspark-3.5.0\n"
          ]
        }
      ]
    },
    {
      "cell_type": "code",
      "source": [
        "from pyspark.sql import SparkSession\n",
        "spark = SparkSession.builder.appName(\"PySpark 3.4 on google.colab\").getOrCreate()"
      ],
      "metadata": {
        "id": "SVw19UF5j2jZ"
      },
      "execution_count": null,
      "outputs": []
    },
    {
      "cell_type": "code",
      "source": [
        "url = \"/content/drive/MyDrive/BigData/smoking_driking_dataset_Ver01.csv\"\n",
        "df = spark.read.csv(url,header=True,inferSchema=True)\n",
        "df.show()"
      ],
      "metadata": {
        "colab": {
          "base_uri": "https://localhost:8080/"
        },
        "id": "axlFjWPxkkxW",
        "outputId": "da09a3e8-5e80-477e-8492-ecea0f2777b9"
      },
      "execution_count": null,
      "outputs": [
        {
          "output_type": "stream",
          "name": "stdout",
          "text": [
            "+------+---+------+------+---------+----------+-----------+---------+----------+-----+-----+-----+---------+---------+---------+------------+----------+-------------+----------------+--------+--------+---------+----------------+------+\n",
            "|   sex|age|height|weight|waistline|sight_left|sight_right|hear_left|hear_right|  SBP|  DBP| BLDS|tot_chole|HDL_chole|LDL_chole|triglyceride|hemoglobin|urine_protein|serum_creatinine|SGOT_AST|SGOT_ALT|gamma_GTP|SMK_stat_type_cd|DRK_YN|\n",
            "+------+---+------+------+---------+----------+-----------+---------+----------+-----+-----+-----+---------+---------+---------+------------+----------+-------------+----------------+--------+--------+---------+----------------+------+\n",
            "|  Male| 35|   170|    75|     90.0|       1.0|        1.0|      1.0|       1.0|120.0| 80.0| 99.0|    193.0|     48.0|    126.0|        92.0|      17.1|          1.0|             1.0|    21.0|    35.0|     40.0|             1.0|     Y|\n",
            "|  Male| 30|   180|    80|     89.0|       0.9|        1.2|      1.0|       1.0|130.0| 82.0|106.0|    228.0|     55.0|    148.0|       121.0|      15.8|          1.0|             0.9|    20.0|    36.0|     27.0|             3.0|     N|\n",
            "|  Male| 40|   165|    75|     91.0|       1.2|        1.5|      1.0|       1.0|120.0| 70.0| 98.0|    136.0|     41.0|     74.0|       104.0|      15.8|          1.0|             0.9|    47.0|    32.0|     68.0|             1.0|     N|\n",
            "|  Male| 50|   175|    80|     91.0|       1.5|        1.2|      1.0|       1.0|145.0| 87.0| 95.0|    201.0|     76.0|    104.0|       106.0|      17.6|          1.0|             1.1|    29.0|    34.0|     18.0|             1.0|     N|\n",
            "|  Male| 50|   165|    60|     80.0|       1.0|        1.2|      1.0|       1.0|138.0| 82.0|101.0|    199.0|     61.0|    117.0|       104.0|      13.8|          1.0|             0.8|    19.0|    12.0|     25.0|             1.0|     N|\n",
            "|  Male| 50|   165|    55|     75.0|       1.2|        1.5|      1.0|       1.0|142.0| 92.0| 99.0|    218.0|     77.0|     95.0|       232.0|      13.8|          3.0|             0.8|    29.0|    40.0|     37.0|             3.0|     Y|\n",
            "|Female| 45|   150|    55|     69.0|       0.5|        0.4|      1.0|       1.0|101.0| 58.0| 89.0|    196.0|     66.0|    115.0|        75.0|      12.3|          1.0|             0.8|    19.0|    12.0|     12.0|             1.0|     N|\n",
            "|  Male| 35|   175|    65|     84.2|       1.2|        1.0|      1.0|       1.0|132.0| 80.0| 94.0|    185.0|     58.0|    107.0|       101.0|      14.4|          1.0|             0.8|    18.0|    18.0|     35.0|             3.0|     Y|\n",
            "|  Male| 55|   170|    75|     84.0|       1.2|        0.9|      1.0|       1.0|145.0| 85.0|104.0|    217.0|     56.0|    141.0|       100.0|      15.1|          1.0|             0.8|    32.0|    23.0|     26.0|             1.0|     Y|\n",
            "|  Male| 40|   175|    75|     82.0|       1.5|        1.5|      1.0|       1.0|132.0|105.0|100.0|    195.0|     60.0|    118.0|        83.0|      13.9|          1.0|             0.9|    21.0|    38.0|     16.0|             2.0|     Y|\n",
            "|  Male| 45|   155|    55|     79.2|       1.0|        1.0|      1.0|       1.0|118.0| 70.0| 90.0|    183.0|     42.0|    130.0|        55.0|      12.9|          1.0|             0.8|    19.0|    14.0|     19.0|             1.0|     N|\n",
            "|  Male| 65|   155|    75|     98.0|       1.2|        9.9|      1.0|       1.0|109.0| 69.0|137.0|    115.0|     31.0|     57.0|       137.0|      16.5|          1.0|             1.3|    48.0|    51.0|     42.0|             2.0|     N|\n",
            "|Female| 55|   150|    55|     72.3|       1.2|        0.9|      1.0|       1.0|130.0| 80.0|106.0|    183.0|     51.0|     89.0|       214.0|      13.1|          1.0|             0.8|    20.0|    20.0|     31.0|             1.0|     N|\n",
            "|  Male| 30|   175|    75|     88.0|       1.2|        1.2|      1.0|       1.0|118.0| 72.0| 82.0|    200.0|     55.0|    129.0|        77.0|      15.7|          1.0|             0.9|    13.0|    16.0|     19.0|             1.0|     Y|\n",
            "|Female| 30|   160|    50|     76.0|       0.9|        1.0|      1.0|       1.0|129.0| 77.0| 79.0|    205.0|     53.0|    108.0|       219.0|      14.5|          1.0|             0.6|    21.0|    24.0|     58.0|             1.0|     N|\n",
            "|  Male| 40|   170|    65|     80.0|       1.0|        1.0|      1.0|       1.0|113.0| 72.0|104.0|    113.0|     44.0|     62.0|        35.0|      16.0|          2.0|             0.9|    15.0|    10.0|     12.0|             1.0|     N|\n",
            "|Female| 25|   160|    65|     73.0|       1.2|        0.9|      1.0|       1.0|126.0| 78.0| 96.0|    148.0|     54.0|     82.0|        60.0|      12.3|          1.0|             0.5|    12.0|     7.0|      9.0|             1.0|     Y|\n",
            "|  Male| 25|   170|    65|     78.0|       1.2|        1.2|      1.0|       1.0|119.0| 67.0|100.0|    147.0|     51.0|     85.0|        54.0|      14.8|          1.0|             0.9|    33.0|    17.0|     13.0|             1.0|     Y|\n",
            "|  Male| 50|   170|    85|     99.0|       0.7|        0.8|      1.0|       1.0|121.0| 74.0| 99.0|    180.0|     43.0|    103.0|       169.0|      14.4|          1.0|             1.2|    41.0|    51.0|     60.0|             1.0|     Y|\n",
            "|  Male| 60|   165|    60|     85.0|       0.3|        0.7|      1.0|       1.0|120.0| 85.0|105.0|    197.0|     42.0|    111.0|       222.0|      15.2|          1.0|             1.0|    19.0|    20.0|     48.0|             3.0|     Y|\n",
            "+------+---+------+------+---------+----------+-----------+---------+----------+-----+-----+-----+---------+---------+---------+------------+----------+-------------+----------------+--------+--------+---------+----------------+------+\n",
            "only showing top 20 rows\n",
            "\n"
          ]
        }
      ]
    },
    {
      "cell_type": "markdown",
      "source": [
        "#Data Preprocessing"
      ],
      "metadata": {
        "id": "r8Y3UYZKOvPb"
      }
    },
    {
      "cell_type": "code",
      "source": [
        "from pyspark.sql.functions import *\n",
        "print(df.select([count(when(isnan(c) | col(c).isNull(), c)).alias(c) for c in df.columns]).show())"
      ],
      "metadata": {
        "colab": {
          "base_uri": "https://localhost:8080/"
        },
        "id": "dB6vGOTzHFWK",
        "outputId": "d4b334d6-1101-434c-b0b9-3af1708ae278"
      },
      "execution_count": null,
      "outputs": [
        {
          "output_type": "stream",
          "name": "stdout",
          "text": [
            "+---+---+------+------+---------+----------+-----------+---------+----------+---+---+----+---------+---------+---------+------------+----------+-------------+----------------+--------+--------+---------+----------------+------+\n",
            "|sex|age|height|weight|waistline|sight_left|sight_right|hear_left|hear_right|SBP|DBP|BLDS|tot_chole|HDL_chole|LDL_chole|triglyceride|hemoglobin|urine_protein|serum_creatinine|SGOT_AST|SGOT_ALT|gamma_GTP|SMK_stat_type_cd|DRK_YN|\n",
            "+---+---+------+------+---------+----------+-----------+---------+----------+---+---+----+---------+---------+---------+------------+----------+-------------+----------------+--------+--------+---------+----------------+------+\n",
            "|  0|  0|     0|     0|        0|         0|          0|        0|         0|  0|  0|   0|        0|        0|        0|           0|         0|            0|               0|       0|       0|        0|               0|     0|\n",
            "+---+---+------+------+---------+----------+-----------+---------+----------+---+---+----+---------+---------+---------+------------+----------+-------------+----------------+--------+--------+---------+----------------+------+\n",
            "\n",
            "None\n"
          ]
        }
      ]
    },
    {
      "cell_type": "code",
      "source": [
        "df.printSchema()"
      ],
      "metadata": {
        "colab": {
          "base_uri": "https://localhost:8080/"
        },
        "id": "W4BGexadmCMx",
        "outputId": "8a78c586-f20f-44b3-a649-cbb8a23b589e"
      },
      "execution_count": null,
      "outputs": [
        {
          "output_type": "stream",
          "name": "stdout",
          "text": [
            "root\n",
            " |-- sex: string (nullable = true)\n",
            " |-- age: integer (nullable = true)\n",
            " |-- height: integer (nullable = true)\n",
            " |-- weight: integer (nullable = true)\n",
            " |-- waistline: double (nullable = true)\n",
            " |-- sight_left: double (nullable = true)\n",
            " |-- sight_right: double (nullable = true)\n",
            " |-- hear_left: double (nullable = true)\n",
            " |-- hear_right: double (nullable = true)\n",
            " |-- SBP: double (nullable = true)\n",
            " |-- DBP: double (nullable = true)\n",
            " |-- BLDS: double (nullable = true)\n",
            " |-- tot_chole: double (nullable = true)\n",
            " |-- HDL_chole: double (nullable = true)\n",
            " |-- LDL_chole: double (nullable = true)\n",
            " |-- triglyceride: double (nullable = true)\n",
            " |-- hemoglobin: double (nullable = true)\n",
            " |-- urine_protein: double (nullable = true)\n",
            " |-- serum_creatinine: double (nullable = true)\n",
            " |-- SGOT_AST: double (nullable = true)\n",
            " |-- SGOT_ALT: double (nullable = true)\n",
            " |-- gamma_GTP: double (nullable = true)\n",
            " |-- SMK_stat_type_cd: double (nullable = true)\n",
            " |-- DRK_YN: string (nullable = true)\n",
            "\n"
          ]
        }
      ]
    },
    {
      "cell_type": "code",
      "source": [
        "print(\"number of rows: \",df.count())"
      ],
      "metadata": {
        "colab": {
          "base_uri": "https://localhost:8080/"
        },
        "id": "0q7yo-wayD-M",
        "outputId": "5861472a-0543-47d5-9551-3464cce86938"
      },
      "execution_count": null,
      "outputs": [
        {
          "output_type": "stream",
          "name": "stdout",
          "text": [
            "number of rows:  991346\n"
          ]
        }
      ]
    },
    {
      "cell_type": "code",
      "source": [
        "from pyspark.sql.functions import col\n",
        "\n",
        "def countNulls(column):\n",
        "  d = {}\n",
        "  for co in column:\n",
        "   d[co] = df.filter(col(co).isNull()).count()\n",
        "\n",
        "  return d"
      ],
      "metadata": {
        "id": "bIPCy7YFqAYT"
      },
      "execution_count": null,
      "outputs": []
    },
    {
      "cell_type": "code",
      "source": [
        "allNull = countNulls(df.columns)\n",
        "allNull"
      ],
      "metadata": {
        "colab": {
          "base_uri": "https://localhost:8080/"
        },
        "id": "MnhTLg33sMG3",
        "outputId": "03b82fd2-e0df-4ba7-ae19-9d42b2d0f1d5"
      },
      "execution_count": null,
      "outputs": [
        {
          "output_type": "execute_result",
          "data": {
            "text/plain": [
              "{'sex': 0,\n",
              " 'age': 0,\n",
              " 'height': 0,\n",
              " 'weight': 0,\n",
              " 'waistline': 0,\n",
              " 'sight_left': 0,\n",
              " 'sight_right': 0,\n",
              " 'hear_left': 0,\n",
              " 'hear_right': 0,\n",
              " 'SBP': 0,\n",
              " 'DBP': 0,\n",
              " 'BLDS': 0,\n",
              " 'tot_chole': 0,\n",
              " 'HDL_chole': 0,\n",
              " 'LDL_chole': 0,\n",
              " 'triglyceride': 0,\n",
              " 'hemoglobin': 0,\n",
              " 'urine_protein': 0,\n",
              " 'serum_creatinine': 0,\n",
              " 'SGOT_AST': 0,\n",
              " 'SGOT_ALT': 0,\n",
              " 'gamma_GTP': 0,\n",
              " 'SMK_stat_type_cd': 0,\n",
              " 'DRK_YN': 0}"
            ]
          },
          "metadata": {},
          "execution_count": 10
        }
      ]
    },
    {
      "cell_type": "code",
      "source": [
        "df = df.na.drop()"
      ],
      "metadata": {
        "id": "yNfq0eYHu_Ca"
      },
      "execution_count": null,
      "outputs": []
    },
    {
      "cell_type": "code",
      "source": [
        "print(\"number of rows: \",df.count())"
      ],
      "metadata": {
        "id": "FgAZ2ORDz6zt",
        "outputId": "1a189b46-078b-4d22-a653-b34ca1200fc2",
        "colab": {
          "base_uri": "https://localhost:8080/"
        }
      },
      "execution_count": null,
      "outputs": [
        {
          "output_type": "stream",
          "name": "stdout",
          "text": [
            "number of rows:  991346\n"
          ]
        }
      ]
    },
    {
      "cell_type": "code",
      "source": [
        "from pyspark.sql.functions import col, count\n",
        "df.groupBy(\"SMK_stat_type_cd\").agg(count('SMK_stat_type_cd')).show()"
      ],
      "metadata": {
        "colab": {
          "base_uri": "https://localhost:8080/"
        },
        "id": "EWlmce5DKEkN",
        "outputId": "f0c406ef-b760-4eca-8319-24855428cf05"
      },
      "execution_count": null,
      "outputs": [
        {
          "output_type": "stream",
          "name": "stdout",
          "text": [
            "+----------------+-----------------------+\n",
            "|SMK_stat_type_cd|count(SMK_stat_type_cd)|\n",
            "+----------------+-----------------------+\n",
            "|             1.0|                 602441|\n",
            "|             3.0|                 213954|\n",
            "|             2.0|                 174951|\n",
            "+----------------+-----------------------+\n",
            "\n"
          ]
        }
      ]
    },
    {
      "cell_type": "code",
      "source": [
        "from pyspark.sql.functions import col\n",
        "\n",
        "casting = ['age','height','weight']\n",
        "for cols in df.columns:\n",
        "  if cols in casting:\n",
        "    #print(cols,col(cols))\n",
        "    df = df.withColumn(cols, df[cols].cast(\"Double\"))"
      ],
      "metadata": {
        "id": "lTAoDaokH8Yl"
      },
      "execution_count": null,
      "outputs": []
    },
    {
      "cell_type": "code",
      "source": [
        "df.drop(\"DRK_YN\").printSchema()"
      ],
      "metadata": {
        "colab": {
          "base_uri": "https://localhost:8080/"
        },
        "id": "UbgtnKzsJcvF",
        "outputId": "000ef8d5-4290-4d3f-f67b-01d7da52f518"
      },
      "execution_count": null,
      "outputs": [
        {
          "output_type": "stream",
          "name": "stdout",
          "text": [
            "root\n",
            " |-- sex: string (nullable = true)\n",
            " |-- age: double (nullable = true)\n",
            " |-- height: double (nullable = true)\n",
            " |-- weight: double (nullable = true)\n",
            " |-- waistline: double (nullable = true)\n",
            " |-- sight_left: double (nullable = true)\n",
            " |-- sight_right: double (nullable = true)\n",
            " |-- hear_left: double (nullable = true)\n",
            " |-- hear_right: double (nullable = true)\n",
            " |-- SBP: double (nullable = true)\n",
            " |-- DBP: double (nullable = true)\n",
            " |-- BLDS: double (nullable = true)\n",
            " |-- tot_chole: double (nullable = true)\n",
            " |-- HDL_chole: double (nullable = true)\n",
            " |-- LDL_chole: double (nullable = true)\n",
            " |-- triglyceride: double (nullable = true)\n",
            " |-- hemoglobin: double (nullable = true)\n",
            " |-- urine_protein: double (nullable = true)\n",
            " |-- serum_creatinine: double (nullable = true)\n",
            " |-- SGOT_AST: double (nullable = true)\n",
            " |-- SGOT_ALT: double (nullable = true)\n",
            " |-- gamma_GTP: double (nullable = true)\n",
            " |-- SMK_stat_type_cd: double (nullable = true)\n",
            "\n"
          ]
        }
      ]
    },
    {
      "cell_type": "markdown",
      "source": [
        "#Z-score Outlier removal"
      ],
      "metadata": {
        "id": "wdwfTdtKkGzR"
      }
    },
    {
      "cell_type": "code",
      "source": [
        "from pyspark.sql.functions import countDistinct, avg, stddev\n",
        "column_subset = ['age','weight','height','waistline','sight_left','sight_right','SBP','DBP','BLDS','tot_chole','HDL_chole','LDL_chole','triglyceride','hemoglobin','serum_creatinine','SGOT_AST','SGOT_ALT','gamma_GTP']\n",
        "for cols in column_subset:\n",
        "          mean = df.agg({cols:'mean'}).collect()[0][0]\n",
        "          stddev = df.agg({cols:'stddev'}).collect()[0][0]\n",
        "          upper_limit = mean + (3*stddev)\n",
        "          lower_limit = mean - (3*stddev)\n",
        "          df = df.filter((df[cols]>lower_limit) & (df[cols]<upper_limit))\n",
        "df.show()"
      ],
      "metadata": {
        "colab": {
          "base_uri": "https://localhost:8080/"
        },
        "id": "vVSGee3fFTvK",
        "outputId": "70808c96-6a65-4b24-d66b-da9f184d6c4f"
      },
      "execution_count": null,
      "outputs": [
        {
          "output_type": "stream",
          "name": "stdout",
          "text": [
            "+------+----+------+------+---------+----------+-----------+---------+----------+-----+----+-----+---------+---------+---------+------------+----------+-------------+----------------+--------+--------+---------+----------------+------+\n",
            "|   sex| age|height|weight|waistline|sight_left|sight_right|hear_left|hear_right|  SBP| DBP| BLDS|tot_chole|HDL_chole|LDL_chole|triglyceride|hemoglobin|urine_protein|serum_creatinine|SGOT_AST|SGOT_ALT|gamma_GTP|SMK_stat_type_cd|DRK_YN|\n",
            "+------+----+------+------+---------+----------+-----------+---------+----------+-----+----+-----+---------+---------+---------+------------+----------+-------------+----------------+--------+--------+---------+----------------+------+\n",
            "|  Male|35.0| 170.0|  75.0|     90.0|       1.0|        1.0|      1.0|       1.0|120.0|80.0| 99.0|    193.0|     48.0|    126.0|        92.0|      17.1|          1.0|             1.0|    21.0|    35.0|     40.0|             1.0|     Y|\n",
            "|  Male|50.0| 165.0|  60.0|     80.0|       1.0|        1.2|      1.0|       1.0|138.0|82.0|101.0|    199.0|     61.0|    117.0|       104.0|      13.8|          1.0|             0.8|    19.0|    12.0|     25.0|             1.0|     N|\n",
            "|  Male|50.0| 165.0|  55.0|     75.0|       1.2|        1.5|      1.0|       1.0|142.0|92.0| 99.0|    218.0|     77.0|     95.0|       232.0|      13.8|          3.0|             0.8|    29.0|    40.0|     37.0|             3.0|     Y|\n",
            "|Female|45.0| 150.0|  55.0|     69.0|       0.5|        0.4|      1.0|       1.0|101.0|58.0| 89.0|    196.0|     66.0|    115.0|        75.0|      12.3|          1.0|             0.8|    19.0|    12.0|     12.0|             1.0|     N|\n",
            "|  Male|35.0| 175.0|  65.0|     84.2|       1.2|        1.0|      1.0|       1.0|132.0|80.0| 94.0|    185.0|     58.0|    107.0|       101.0|      14.4|          1.0|             0.8|    18.0|    18.0|     35.0|             3.0|     Y|\n",
            "|  Male|55.0| 170.0|  75.0|     84.0|       1.2|        0.9|      1.0|       1.0|145.0|85.0|104.0|    217.0|     56.0|    141.0|       100.0|      15.1|          1.0|             0.8|    32.0|    23.0|     26.0|             1.0|     Y|\n",
            "|  Male|45.0| 155.0|  55.0|     79.2|       1.0|        1.0|      1.0|       1.0|118.0|70.0| 90.0|    183.0|     42.0|    130.0|        55.0|      12.9|          1.0|             0.8|    19.0|    14.0|     19.0|             1.0|     N|\n",
            "|Female|55.0| 150.0|  55.0|     72.3|       1.2|        0.9|      1.0|       1.0|130.0|80.0|106.0|    183.0|     51.0|     89.0|       214.0|      13.1|          1.0|             0.8|    20.0|    20.0|     31.0|             1.0|     N|\n",
            "|  Male|30.0| 175.0|  75.0|     88.0|       1.2|        1.2|      1.0|       1.0|118.0|72.0| 82.0|    200.0|     55.0|    129.0|        77.0|      15.7|          1.0|             0.9|    13.0|    16.0|     19.0|             1.0|     Y|\n",
            "|Female|30.0| 160.0|  50.0|     76.0|       0.9|        1.0|      1.0|       1.0|129.0|77.0| 79.0|    205.0|     53.0|    108.0|       219.0|      14.5|          1.0|             0.6|    21.0|    24.0|     58.0|             1.0|     N|\n",
            "|Female|25.0| 160.0|  65.0|     73.0|       1.2|        0.9|      1.0|       1.0|126.0|78.0| 96.0|    148.0|     54.0|     82.0|        60.0|      12.3|          1.0|             0.5|    12.0|     7.0|      9.0|             1.0|     Y|\n",
            "|  Male|25.0| 170.0|  65.0|     78.0|       1.2|        1.2|      1.0|       1.0|119.0|67.0|100.0|    147.0|     51.0|     85.0|        54.0|      14.8|          1.0|             0.9|    33.0|    17.0|     13.0|             1.0|     Y|\n",
            "|  Male|60.0| 165.0|  60.0|     85.0|       0.3|        0.7|      1.0|       1.0|120.0|85.0|105.0|    197.0|     42.0|    111.0|       222.0|      15.2|          1.0|             1.0|    19.0|    20.0|     48.0|             3.0|     Y|\n",
            "|Female|35.0| 170.0|  50.0|     67.0|       1.0|        0.8|      1.0|       1.0|111.0|65.0| 88.0|    174.0|     66.0|     98.0|        46.0|      12.1|          1.0|             0.9|    19.0|    13.0|     18.0|             1.0|     Y|\n",
            "|  Male|25.0| 175.0|  65.0|     82.0|       1.5|        1.5|      1.0|       1.0|130.0|76.0| 95.0|    207.0|     62.0|    134.0|        57.0|      16.7|          1.0|             1.2|    28.0|    30.0|     32.0|             3.0|     Y|\n",
            "|  Male|40.0| 165.0|  75.0|     92.0|       1.0|        1.5|      1.0|       1.0|110.0|70.0|102.0|    195.0|     57.0|    113.0|       125.0|      16.1|          1.0|             1.0|    29.0|    31.0|     33.0|             2.0|     Y|\n",
            "|Female|20.0| 160.0|  55.0|     79.0|       1.2|        1.5|      1.0|       1.0|110.0|70.0| 87.0|    156.0|     59.0|     86.0|        55.0|      12.1|          1.0|             0.8|    16.0|    11.0|     15.0|             1.0|     Y|\n",
            "|Female|35.0| 160.0|  55.0|     70.0|       1.5|        1.2|      1.0|       1.0|114.0|67.0| 91.0|    231.0|     66.0|    152.0|        63.0|      12.8|          1.0|             0.8|    16.0|    10.0|     10.0|             1.0|     N|\n",
            "|Female|30.0| 170.0|  55.0|     67.5|       0.3|        1.5|      1.0|       1.0|129.0|74.0| 88.0|    195.0|     85.0|    100.0|        49.0|      14.3|          1.0|             0.8|    25.0|    15.0|     12.0|             1.0|     N|\n",
            "|  Male|40.0| 175.0|  75.0|     87.3|       0.7|        0.9|      1.0|       1.0|118.0|75.0| 94.0|    191.0|     50.0|     94.0|       231.0|      15.0|          1.0|             0.9|    25.0|    46.0|     53.0|             3.0|     Y|\n",
            "+------+----+------+------+---------+----------+-----------+---------+----------+-----+----+-----+---------+---------+---------+------------+----------+-------------+----------------+--------+--------+---------+----------------+------+\n",
            "only showing top 20 rows\n",
            "\n"
          ]
        }
      ]
    },
    {
      "cell_type": "code",
      "source": [
        "print(\"number of rows: \",df.count())"
      ],
      "metadata": {
        "id": "ypZyqYgTu32F",
        "outputId": "3c63aeac-a722-4374-d273-59023c5a85d3",
        "colab": {
          "base_uri": "https://localhost:8080/"
        }
      },
      "execution_count": null,
      "outputs": [
        {
          "output_type": "stream",
          "name": "stdout",
          "text": [
            "number of rows:  586028\n"
          ]
        }
      ]
    },
    {
      "cell_type": "code",
      "source": [
        "from pyspark.ml.feature import StringIndexer\n",
        "indexer = StringIndexer(inputCol=\"sex\", outputCol=\"sex_index\")\n",
        "indexd_data=indexer.fit(df).transform(df)\n",
        "indexd_data.show(10, truncate=False)"
      ],
      "metadata": {
        "colab": {
          "base_uri": "https://localhost:8080/"
        },
        "id": "slVdGV9erY1E",
        "outputId": "19e19cac-b5e5-4f5a-9d5b-7fcf2e40f926"
      },
      "execution_count": null,
      "outputs": [
        {
          "output_type": "stream",
          "name": "stdout",
          "text": [
            "+------+----+------+------+---------+----------+-----------+---------+----------+-----+----+-----+---------+---------+---------+------------+----------+-------------+----------------+--------+--------+---------+----------------+------+---------+\n",
            "|sex   |age |height|weight|waistline|sight_left|sight_right|hear_left|hear_right|SBP  |DBP |BLDS |tot_chole|HDL_chole|LDL_chole|triglyceride|hemoglobin|urine_protein|serum_creatinine|SGOT_AST|SGOT_ALT|gamma_GTP|SMK_stat_type_cd|DRK_YN|sex_index|\n",
            "+------+----+------+------+---------+----------+-----------+---------+----------+-----+----+-----+---------+---------+---------+------------+----------+-------------+----------------+--------+--------+---------+----------------+------+---------+\n",
            "|Male  |35.0|170.0 |75.0  |90.0     |1.0       |1.0        |1.0      |1.0       |120.0|80.0|99.0 |193.0    |48.0     |126.0    |92.0        |17.1      |1.0          |1.0             |21.0    |35.0    |40.0     |1.0             |Y     |1.0      |\n",
            "|Male  |40.0|165.0 |75.0  |91.0     |1.2       |1.5        |1.0      |1.0       |120.0|70.0|98.0 |136.0    |41.0     |74.0     |104.0       |15.8      |1.0          |0.9             |47.0    |32.0    |68.0     |1.0             |N     |1.0      |\n",
            "|Male  |50.0|165.0 |60.0  |80.0     |1.0       |1.2        |1.0      |1.0       |138.0|82.0|101.0|199.0    |61.0     |117.0    |104.0       |13.8      |1.0          |0.8             |19.0    |12.0    |25.0     |1.0             |N     |1.0      |\n",
            "|Male  |50.0|165.0 |55.0  |75.0     |1.2       |1.5        |1.0      |1.0       |142.0|92.0|99.0 |218.0    |77.0     |95.0     |232.0       |13.8      |3.0          |0.8             |29.0    |40.0    |37.0     |3.0             |Y     |1.0      |\n",
            "|Female|45.0|150.0 |55.0  |69.0     |0.5       |0.4        |1.0      |1.0       |101.0|58.0|89.0 |196.0    |66.0     |115.0    |75.0        |12.3      |1.0          |0.8             |19.0    |12.0    |12.0     |1.0             |N     |0.0      |\n",
            "|Male  |35.0|175.0 |65.0  |84.2     |1.2       |1.0        |1.0      |1.0       |132.0|80.0|94.0 |185.0    |58.0     |107.0    |101.0       |14.4      |1.0          |0.8             |18.0    |18.0    |35.0     |3.0             |Y     |1.0      |\n",
            "|Male  |55.0|170.0 |75.0  |84.0     |1.2       |0.9        |1.0      |1.0       |145.0|85.0|104.0|217.0    |56.0     |141.0    |100.0       |15.1      |1.0          |0.8             |32.0    |23.0    |26.0     |1.0             |Y     |1.0      |\n",
            "|Male  |45.0|155.0 |55.0  |79.2     |1.0       |1.0        |1.0      |1.0       |118.0|70.0|90.0 |183.0    |42.0     |130.0    |55.0        |12.9      |1.0          |0.8             |19.0    |14.0    |19.0     |1.0             |N     |1.0      |\n",
            "|Female|55.0|150.0 |55.0  |72.3     |1.2       |0.9        |1.0      |1.0       |130.0|80.0|106.0|183.0    |51.0     |89.0     |214.0       |13.1      |1.0          |0.8             |20.0    |20.0    |31.0     |1.0             |N     |0.0      |\n",
            "|Male  |30.0|175.0 |75.0  |88.0     |1.2       |1.2        |1.0      |1.0       |118.0|72.0|82.0 |200.0    |55.0     |129.0    |77.0        |15.7      |1.0          |0.9             |13.0    |16.0    |19.0     |1.0             |Y     |1.0      |\n",
            "+------+----+------+------+---------+----------+-----------+---------+----------+-----+----+-----+---------+---------+---------+------------+----------+-------------+----------------+--------+--------+---------+----------------+------+---------+\n",
            "only showing top 10 rows\n",
            "\n"
          ]
        }
      ]
    },
    {
      "cell_type": "code",
      "source": [
        "indexd_data = indexd_data.drop(\"sex\",\"DRK_YN\")\n",
        "indexd_data.printSchema()"
      ],
      "metadata": {
        "colab": {
          "base_uri": "https://localhost:8080/"
        },
        "id": "ENxki_mrs-aH",
        "outputId": "6da3e85d-9362-4d37-dc82-6c3b856176ed"
      },
      "execution_count": null,
      "outputs": [
        {
          "output_type": "stream",
          "name": "stdout",
          "text": [
            "root\n",
            " |-- age: double (nullable = true)\n",
            " |-- height: double (nullable = true)\n",
            " |-- weight: double (nullable = true)\n",
            " |-- waistline: double (nullable = true)\n",
            " |-- sight_left: double (nullable = true)\n",
            " |-- sight_right: double (nullable = true)\n",
            " |-- hear_left: double (nullable = true)\n",
            " |-- hear_right: double (nullable = true)\n",
            " |-- SBP: double (nullable = true)\n",
            " |-- DBP: double (nullable = true)\n",
            " |-- BLDS: double (nullable = true)\n",
            " |-- tot_chole: double (nullable = true)\n",
            " |-- HDL_chole: double (nullable = true)\n",
            " |-- LDL_chole: double (nullable = true)\n",
            " |-- triglyceride: double (nullable = true)\n",
            " |-- hemoglobin: double (nullable = true)\n",
            " |-- urine_protein: double (nullable = true)\n",
            " |-- serum_creatinine: double (nullable = true)\n",
            " |-- SGOT_AST: double (nullable = true)\n",
            " |-- SGOT_ALT: double (nullable = true)\n",
            " |-- gamma_GTP: double (nullable = true)\n",
            " |-- SMK_stat_type_cd: double (nullable = true)\n",
            " |-- sex_index: double (nullable = false)\n",
            "\n"
          ]
        }
      ]
    },
    {
      "cell_type": "code",
      "source": [
        "from pyspark.ml.feature import VectorAssembler"
      ],
      "metadata": {
        "id": "98fm9zLzbTm_"
      },
      "execution_count": null,
      "outputs": []
    },
    {
      "cell_type": "code",
      "source": [
        "assembler = VectorAssembler(\n",
        "    inputCols = indexd_data.columns,\n",
        "    outputCol = \"features\"\n",
        ")\n",
        "output = assembler.transform(indexd_data)\n",
        "output.show(10, truncate=False)"
      ],
      "metadata": {
        "id": "6ackmZPvbdhW",
        "colab": {
          "base_uri": "https://localhost:8080/"
        },
        "outputId": "03a06ab3-0f02-418f-e367-9d9c739f3310"
      },
      "execution_count": null,
      "outputs": [
        {
          "output_type": "stream",
          "name": "stdout",
          "text": [
            "+----+------+------+---------+----------+-----------+---------+----------+-----+----+-----+---------+---------+---------+------------+----------+-------------+----------------+--------+--------+---------+----------------+---------+------------------------------------------------------------------------------------------------------------------+\n",
            "|age |height|weight|waistline|sight_left|sight_right|hear_left|hear_right|SBP  |DBP |BLDS |tot_chole|HDL_chole|LDL_chole|triglyceride|hemoglobin|urine_protein|serum_creatinine|SGOT_AST|SGOT_ALT|gamma_GTP|SMK_stat_type_cd|sex_index|features                                                                                                          |\n",
            "+----+------+------+---------+----------+-----------+---------+----------+-----+----+-----+---------+---------+---------+------------+----------+-------------+----------------+--------+--------+---------+----------------+---------+------------------------------------------------------------------------------------------------------------------+\n",
            "|35.0|170.0 |75.0  |90.0     |1.0       |1.0        |1.0      |1.0       |120.0|80.0|99.0 |193.0    |48.0     |126.0    |92.0        |17.1      |1.0          |1.0             |21.0    |35.0    |40.0     |1.0             |1.0      |[35.0,170.0,75.0,90.0,1.0,1.0,1.0,1.0,120.0,80.0,99.0,193.0,48.0,126.0,92.0,17.1,1.0,1.0,21.0,35.0,40.0,1.0,1.0]  |\n",
            "|40.0|165.0 |75.0  |91.0     |1.2       |1.5        |1.0      |1.0       |120.0|70.0|98.0 |136.0    |41.0     |74.0     |104.0       |15.8      |1.0          |0.9             |47.0    |32.0    |68.0     |1.0             |1.0      |[40.0,165.0,75.0,91.0,1.2,1.5,1.0,1.0,120.0,70.0,98.0,136.0,41.0,74.0,104.0,15.8,1.0,0.9,47.0,32.0,68.0,1.0,1.0]  |\n",
            "|50.0|165.0 |60.0  |80.0     |1.0       |1.2        |1.0      |1.0       |138.0|82.0|101.0|199.0    |61.0     |117.0    |104.0       |13.8      |1.0          |0.8             |19.0    |12.0    |25.0     |1.0             |1.0      |[50.0,165.0,60.0,80.0,1.0,1.2,1.0,1.0,138.0,82.0,101.0,199.0,61.0,117.0,104.0,13.8,1.0,0.8,19.0,12.0,25.0,1.0,1.0]|\n",
            "|50.0|165.0 |55.0  |75.0     |1.2       |1.5        |1.0      |1.0       |142.0|92.0|99.0 |218.0    |77.0     |95.0     |232.0       |13.8      |3.0          |0.8             |29.0    |40.0    |37.0     |3.0             |1.0      |[50.0,165.0,55.0,75.0,1.2,1.5,1.0,1.0,142.0,92.0,99.0,218.0,77.0,95.0,232.0,13.8,3.0,0.8,29.0,40.0,37.0,3.0,1.0]  |\n",
            "|45.0|150.0 |55.0  |69.0     |0.5       |0.4        |1.0      |1.0       |101.0|58.0|89.0 |196.0    |66.0     |115.0    |75.0        |12.3      |1.0          |0.8             |19.0    |12.0    |12.0     |1.0             |0.0      |[45.0,150.0,55.0,69.0,0.5,0.4,1.0,1.0,101.0,58.0,89.0,196.0,66.0,115.0,75.0,12.3,1.0,0.8,19.0,12.0,12.0,1.0,0.0]  |\n",
            "|35.0|175.0 |65.0  |84.2     |1.2       |1.0        |1.0      |1.0       |132.0|80.0|94.0 |185.0    |58.0     |107.0    |101.0       |14.4      |1.0          |0.8             |18.0    |18.0    |35.0     |3.0             |1.0      |[35.0,175.0,65.0,84.2,1.2,1.0,1.0,1.0,132.0,80.0,94.0,185.0,58.0,107.0,101.0,14.4,1.0,0.8,18.0,18.0,35.0,3.0,1.0] |\n",
            "|55.0|170.0 |75.0  |84.0     |1.2       |0.9        |1.0      |1.0       |145.0|85.0|104.0|217.0    |56.0     |141.0    |100.0       |15.1      |1.0          |0.8             |32.0    |23.0    |26.0     |1.0             |1.0      |[55.0,170.0,75.0,84.0,1.2,0.9,1.0,1.0,145.0,85.0,104.0,217.0,56.0,141.0,100.0,15.1,1.0,0.8,32.0,23.0,26.0,1.0,1.0]|\n",
            "|45.0|155.0 |55.0  |79.2     |1.0       |1.0        |1.0      |1.0       |118.0|70.0|90.0 |183.0    |42.0     |130.0    |55.0        |12.9      |1.0          |0.8             |19.0    |14.0    |19.0     |1.0             |1.0      |[45.0,155.0,55.0,79.2,1.0,1.0,1.0,1.0,118.0,70.0,90.0,183.0,42.0,130.0,55.0,12.9,1.0,0.8,19.0,14.0,19.0,1.0,1.0]  |\n",
            "|55.0|150.0 |55.0  |72.3     |1.2       |0.9        |1.0      |1.0       |130.0|80.0|106.0|183.0    |51.0     |89.0     |214.0       |13.1      |1.0          |0.8             |20.0    |20.0    |31.0     |1.0             |0.0      |[55.0,150.0,55.0,72.3,1.2,0.9,1.0,1.0,130.0,80.0,106.0,183.0,51.0,89.0,214.0,13.1,1.0,0.8,20.0,20.0,31.0,1.0,0.0] |\n",
            "|30.0|175.0 |75.0  |88.0     |1.2       |1.2        |1.0      |1.0       |118.0|72.0|82.0 |200.0    |55.0     |129.0    |77.0        |15.7      |1.0          |0.9             |13.0    |16.0    |19.0     |1.0             |1.0      |[30.0,175.0,75.0,88.0,1.2,1.2,1.0,1.0,118.0,72.0,82.0,200.0,55.0,129.0,77.0,15.7,1.0,0.9,13.0,16.0,19.0,1.0,1.0]  |\n",
            "+----+------+------+---------+----------+-----------+---------+----------+-----+----+-----+---------+---------+---------+------------+----------+-------------+----------------+--------+--------+---------+----------------+---------+------------------------------------------------------------------------------------------------------------------+\n",
            "only showing top 10 rows\n",
            "\n"
          ]
        }
      ]
    },
    {
      "cell_type": "code",
      "source": [
        "from pyspark.ml.feature import MinMaxScaler\n",
        "from pyspark.ml.feature import VectorAssembler\n",
        "from pyspark.ml import Pipeline\n",
        "\n",
        "#selected_columns = [col for col in indexd_data.columns if col!=\"SMK_stat_type_cd\"]\n",
        "scaler = MinMaxScaler(inputCol=\"features\", outputCol=\"scaled_features\")\n",
        "\n",
        "scaler_model = scaler.fit(output)\n",
        "normalized_data = scaler_model.transform(output)\n",
        "normalized_data.show()"
      ],
      "metadata": {
        "colab": {
          "base_uri": "https://localhost:8080/"
        },
        "id": "rd-FgWXoyHCV",
        "outputId": "c3fd6b64-c8a7-46df-87bf-c38f6f250315"
      },
      "execution_count": null,
      "outputs": [
        {
          "output_type": "stream",
          "name": "stdout",
          "text": [
            "+----+------+------+---------+----------+-----------+---------+----------+-----+----+-----+---------+---------+---------+------------+----------+-------------+----------------+--------+--------+---------+----------------+---------+--------------------+--------------------+\n",
            "| age|height|weight|waistline|sight_left|sight_right|hear_left|hear_right|  SBP| DBP| BLDS|tot_chole|HDL_chole|LDL_chole|triglyceride|hemoglobin|urine_protein|serum_creatinine|SGOT_AST|SGOT_ALT|gamma_GTP|SMK_stat_type_cd|sex_index|            features|     scaled_features|\n",
            "+----+------+------+---------+----------+-----------+---------+----------+-----+----+-----+---------+---------+---------+------------+----------+-------------+----------------+--------+--------+---------+----------------+---------+--------------------+--------------------+\n",
            "|35.0| 170.0|  75.0|     90.0|       1.0|        1.0|      1.0|       1.0|120.0|80.0| 99.0|    193.0|     48.0|    126.0|        92.0|      17.1|          1.0|             1.0|    21.0|    35.0|     40.0|             1.0|      1.0|[35.0,170.0,75.0,...|[0.27272727272727...|\n",
            "|40.0| 165.0|  75.0|     91.0|       1.2|        1.5|      1.0|       1.0|120.0|70.0| 98.0|    136.0|     41.0|     74.0|       104.0|      15.8|          1.0|             0.9|    47.0|    32.0|     68.0|             1.0|      1.0|[40.0,165.0,75.0,...|[0.36363636363636...|\n",
            "|50.0| 165.0|  60.0|     80.0|       1.0|        1.2|      1.0|       1.0|138.0|82.0|101.0|    199.0|     61.0|    117.0|       104.0|      13.8|          1.0|             0.8|    19.0|    12.0|     25.0|             1.0|      1.0|[50.0,165.0,60.0,...|[0.54545454545454...|\n",
            "|50.0| 165.0|  55.0|     75.0|       1.2|        1.5|      1.0|       1.0|142.0|92.0| 99.0|    218.0|     77.0|     95.0|       232.0|      13.8|          3.0|             0.8|    29.0|    40.0|     37.0|             3.0|      1.0|[50.0,165.0,55.0,...|[0.54545454545454...|\n",
            "|45.0| 150.0|  55.0|     69.0|       0.5|        0.4|      1.0|       1.0|101.0|58.0| 89.0|    196.0|     66.0|    115.0|        75.0|      12.3|          1.0|             0.8|    19.0|    12.0|     12.0|             1.0|      0.0|[45.0,150.0,55.0,...|[0.45454545454545...|\n",
            "|35.0| 175.0|  65.0|     84.2|       1.2|        1.0|      1.0|       1.0|132.0|80.0| 94.0|    185.0|     58.0|    107.0|       101.0|      14.4|          1.0|             0.8|    18.0|    18.0|     35.0|             3.0|      1.0|[35.0,175.0,65.0,...|[0.27272727272727...|\n",
            "|55.0| 170.0|  75.0|     84.0|       1.2|        0.9|      1.0|       1.0|145.0|85.0|104.0|    217.0|     56.0|    141.0|       100.0|      15.1|          1.0|             0.8|    32.0|    23.0|     26.0|             1.0|      1.0|[55.0,170.0,75.0,...|[0.63636363636363...|\n",
            "|45.0| 155.0|  55.0|     79.2|       1.0|        1.0|      1.0|       1.0|118.0|70.0| 90.0|    183.0|     42.0|    130.0|        55.0|      12.9|          1.0|             0.8|    19.0|    14.0|     19.0|             1.0|      1.0|[45.0,155.0,55.0,...|[0.45454545454545...|\n",
            "|55.0| 150.0|  55.0|     72.3|       1.2|        0.9|      1.0|       1.0|130.0|80.0|106.0|    183.0|     51.0|     89.0|       214.0|      13.1|          1.0|             0.8|    20.0|    20.0|     31.0|             1.0|      0.0|[55.0,150.0,55.0,...|[0.63636363636363...|\n",
            "|30.0| 175.0|  75.0|     88.0|       1.2|        1.2|      1.0|       1.0|118.0|72.0| 82.0|    200.0|     55.0|    129.0|        77.0|      15.7|          1.0|             0.9|    13.0|    16.0|     19.0|             1.0|      1.0|[30.0,175.0,75.0,...|[0.18181818181818...|\n",
            "|30.0| 160.0|  50.0|     76.0|       0.9|        1.0|      1.0|       1.0|129.0|77.0| 79.0|    205.0|     53.0|    108.0|       219.0|      14.5|          1.0|             0.6|    21.0|    24.0|     58.0|             1.0|      0.0|[30.0,160.0,50.0,...|[0.18181818181818...|\n",
            "|25.0| 160.0|  65.0|     73.0|       1.2|        0.9|      1.0|       1.0|126.0|78.0| 96.0|    148.0|     54.0|     82.0|        60.0|      12.3|          1.0|             0.5|    12.0|     7.0|      9.0|             1.0|      0.0|[25.0,160.0,65.0,...|[0.09090909090909...|\n",
            "|25.0| 170.0|  65.0|     78.0|       1.2|        1.2|      1.0|       1.0|119.0|67.0|100.0|    147.0|     51.0|     85.0|        54.0|      14.8|          1.0|             0.9|    33.0|    17.0|     13.0|             1.0|      1.0|[25.0,170.0,65.0,...|[0.09090909090909...|\n",
            "|50.0| 170.0|  85.0|     99.0|       0.7|        0.8|      1.0|       1.0|121.0|74.0| 99.0|    180.0|     43.0|    103.0|       169.0|      14.4|          1.0|             1.2|    41.0|    51.0|     60.0|             1.0|      1.0|[50.0,170.0,85.0,...|[0.54545454545454...|\n",
            "|60.0| 165.0|  60.0|     85.0|       0.3|        0.7|      1.0|       1.0|120.0|85.0|105.0|    197.0|     42.0|    111.0|       222.0|      15.2|          1.0|             1.0|    19.0|    20.0|     48.0|             3.0|      1.0|[60.0,165.0,60.0,...|[0.72727272727272...|\n",
            "|35.0| 170.0|  50.0|     67.0|       1.0|        0.8|      1.0|       1.0|111.0|65.0| 88.0|    174.0|     66.0|     98.0|        46.0|      12.1|          1.0|             0.9|    19.0|    13.0|     18.0|             1.0|      0.0|[35.0,170.0,50.0,...|[0.27272727272727...|\n",
            "|25.0| 175.0|  65.0|     82.0|       1.5|        1.5|      1.0|       1.0|130.0|76.0| 95.0|    207.0|     62.0|    134.0|        57.0|      16.7|          1.0|             1.2|    28.0|    30.0|     32.0|             3.0|      1.0|[25.0,175.0,65.0,...|[0.09090909090909...|\n",
            "|40.0| 165.0|  75.0|     92.0|       1.0|        1.5|      1.0|       1.0|110.0|70.0|102.0|    195.0|     57.0|    113.0|       125.0|      16.1|          1.0|             1.0|    29.0|    31.0|     33.0|             2.0|      1.0|[40.0,165.0,75.0,...|[0.36363636363636...|\n",
            "|20.0| 160.0|  55.0|     79.0|       1.2|        1.5|      1.0|       1.0|110.0|70.0| 87.0|    156.0|     59.0|     86.0|        55.0|      12.1|          1.0|             0.8|    16.0|    11.0|     15.0|             1.0|      0.0|[20.0,160.0,55.0,...|[0.0,0.5,0.333333...|\n",
            "|60.0| 170.0|  75.0|     87.0|       0.7|        0.7|      1.0|       1.0|119.0|80.0| 83.0|    154.0|     35.0|    104.0|       150.0|      15.9|          1.0|             0.7|    31.0|    29.0|     76.0|             3.0|      1.0|[60.0,170.0,75.0,...|[0.72727272727272...|\n",
            "+----+------+------+---------+----------+-----------+---------+----------+-----+----+-----+---------+---------+---------+------------+----------+-------------+----------------+--------+--------+---------+----------------+---------+--------------------+--------------------+\n",
            "only showing top 20 rows\n",
            "\n"
          ]
        }
      ]
    },
    {
      "cell_type": "code",
      "source": [
        "finalData = normalized_data.select(\"scaled_features\",\"SMK_stat_type_cd\")\n",
        "finalData.show()"
      ],
      "metadata": {
        "colab": {
          "base_uri": "https://localhost:8080/"
        },
        "id": "58a5aFSJ4ynW",
        "outputId": "68b2b333-3ef7-411b-8219-7034ac6ab2e6"
      },
      "execution_count": null,
      "outputs": [
        {
          "output_type": "stream",
          "name": "stdout",
          "text": [
            "+--------------------+----------------+\n",
            "|     scaled_features|SMK_stat_type_cd|\n",
            "+--------------------+----------------+\n",
            "|[0.27272727272727...|             1.0|\n",
            "|[0.36363636363636...|             1.0|\n",
            "|[0.54545454545454...|             1.0|\n",
            "|[0.54545454545454...|             3.0|\n",
            "|[0.45454545454545...|             1.0|\n",
            "|[0.27272727272727...|             3.0|\n",
            "|[0.63636363636363...|             1.0|\n",
            "|[0.45454545454545...|             1.0|\n",
            "|[0.63636363636363...|             1.0|\n",
            "|[0.18181818181818...|             1.0|\n",
            "|[0.18181818181818...|             1.0|\n",
            "|[0.09090909090909...|             1.0|\n",
            "|[0.09090909090909...|             1.0|\n",
            "|[0.54545454545454...|             1.0|\n",
            "|[0.72727272727272...|             3.0|\n",
            "|[0.27272727272727...|             1.0|\n",
            "|[0.09090909090909...|             3.0|\n",
            "|[0.36363636363636...|             2.0|\n",
            "|[0.0,0.5,0.333333...|             1.0|\n",
            "|[0.72727272727272...|             3.0|\n",
            "+--------------------+----------------+\n",
            "only showing top 20 rows\n",
            "\n"
          ]
        }
      ]
    },
    {
      "cell_type": "code",
      "source": [
        "train_ratio = 0.8\n",
        "test_ratio = 1 - train_ratio\n",
        "train_data, test_data = finalData.randomSplit([train_ratio, test_ratio])"
      ],
      "metadata": {
        "id": "JW3Skl-z4V5m"
      },
      "execution_count": null,
      "outputs": []
    },
    {
      "cell_type": "code",
      "source": [
        "from pyspark.ml.classification import LogisticRegression\n",
        "lr = LogisticRegression(featuresCol=\"scaled_features\", labelCol=\"SMK_stat_type_cd\")\n",
        "model = lr.fit(train_data)"
      ],
      "metadata": {
        "id": "EJ5OspR523bb"
      },
      "execution_count": null,
      "outputs": []
    },
    {
      "cell_type": "code",
      "source": [
        "predictions = model.transform(test_data)\n",
        "predictions.show(5)"
      ],
      "metadata": {
        "id": "mh1FsY3qBKvo",
        "colab": {
          "base_uri": "https://localhost:8080/"
        },
        "outputId": "4b414dd4-92d2-4f8d-f1b7-16e1edaae00a"
      },
      "execution_count": null,
      "outputs": [
        {
          "output_type": "stream",
          "name": "stdout",
          "text": [
            "+--------------------+----------------+--------------------+--------------------+----------+\n",
            "|     scaled_features|SMK_stat_type_cd|       rawPrediction|         probability|prediction|\n",
            "+--------------------+----------------+--------------------+--------------------+----------+\n",
            "|(23,[0,3,8,9,10,1...|             1.0|[-8.7977771478300...|[2.69227833252625...|       1.0|\n",
            "|(23,[3,4,5,9,10,1...|             1.0|[-8.7947454402434...|[1.19417639543034...|       1.0|\n",
            "|[0.0,0.0,0.111111...|             1.0|[-8.7959262753845...|[1.00844490775487...|       1.0|\n",
            "|[0.0,0.0,0.111111...|             3.0|[-8.8002283139318...|[2.70919782160049...|       3.0|\n",
            "|[0.0,0.0,0.111111...|             1.0|[-8.7990034898125...|[8.03735164721840...|       1.0|\n",
            "+--------------------+----------------+--------------------+--------------------+----------+\n",
            "only showing top 5 rows\n",
            "\n"
          ]
        }
      ]
    },
    {
      "cell_type": "code",
      "source": [
        "from pyspark.ml.evaluation import MulticlassClassificationEvaluator\n",
        "evaluator = MulticlassClassificationEvaluator(labelCol='SMK_stat_type_cd')\n",
        "auc = evaluator.evaluate(predictions)\n",
        "print(\"Logistic regression accuracy:\", auc)"
      ],
      "metadata": {
        "colab": {
          "base_uri": "https://localhost:8080/"
        },
        "id": "hBO3CfudBQki",
        "outputId": "2ab62d69-edb9-4b0f-a3cb-91ceeb60e47f"
      },
      "execution_count": null,
      "outputs": [
        {
          "output_type": "stream",
          "name": "stdout",
          "text": [
            "Logistic regression accuracy: 1.0\n"
          ]
        }
      ]
    },
    {
      "cell_type": "code",
      "source": [
        "import seaborn as sns\n",
        "import matplotlib.pyplot as plt\n",
        "from pyspark.mllib.evaluation import MulticlassMetrics\n",
        "\n",
        "predictionAndLabels = predictions.select(\"prediction\", \"SMK_stat_type_cd\").rdd\n",
        "\n",
        "metrics = MulticlassMetrics(predictionAndLabels)\n",
        "\n",
        "confusion_matrix = metrics.confusionMatrix().toArray()\n",
        "plt.figure(figsize=(5, 4))\n",
        "sns.heatmap(confusion_matrix, annot=True, fmt=\"g\", cmap=\"Blues\", xticklabels=[1,2,3], yticklabels=[1,2,3])\n",
        "plt.xlabel(\"Predicted Label\")\n",
        "plt.ylabel(\"True Label\")\n",
        "plt.title(\"Confusion Matrix\")\n",
        "plt.show()"
      ],
      "metadata": {
        "colab": {
          "base_uri": "https://localhost:8080/",
          "height": 445
        },
        "id": "epLZ5J4JQf_2",
        "outputId": "ad371d56-8806-4be2-9145-24c37e490099"
      },
      "execution_count": null,
      "outputs": [
        {
          "output_type": "stream",
          "name": "stderr",
          "text": [
            "/usr/local/lib/python3.10/dist-packages/pyspark/sql/context.py:158: FutureWarning: Deprecated in 3.0.0. Use SparkSession.builder.getOrCreate() instead.\n",
            "  warnings.warn(\n"
          ]
        },
        {
          "output_type": "display_data",
          "data": {
            "text/plain": [
              "<Figure size 500x400 with 2 Axes>"
            ],
            "image/png": "[encoded data removed]"
          },
          "metadata": {}
        }
      ]
    },
    {
      "cell_type": "code",
      "source": [
        "from pyspark.ml.classification import RandomForestClassifier\n",
        "rf = RandomForestClassifier(featuresCol=\"scaled_features\", labelCol='SMK_stat_type_cd',numTrees=200)\n",
        "model = rf.fit(train_data)"
      ],
      "metadata": {
        "id": "ovkxmQk8T-yi"
      },
      "execution_count": null,
      "outputs": []
    },
    {
      "cell_type": "code",
      "source": [
        "predictions = model.transform(test_data)\n",
        "predictions.show(5)"
      ],
      "metadata": {
        "colab": {
          "base_uri": "https://localhost:8080/"
        },
        "id": "7P7wKNuyU4LZ",
        "outputId": "33bfcd91-b3bf-40dd-a4f5-76b0265187bc"
      },
      "execution_count": null,
      "outputs": [
        {
          "output_type": "stream",
          "name": "stdout",
          "text": [
            "+--------------------+----------------+--------------------+--------------------+----------+\n",
            "|     scaled_features|SMK_stat_type_cd|       rawPrediction|         probability|prediction|\n",
            "+--------------------+----------------+--------------------+--------------------+----------+\n",
            "|[0.0,0.2,0.071428...|             1.0|[0.0,195.19675422...|[0.0,0.9759837711...|       1.0|\n",
            "|[0.0,0.2,0.142857...|             1.0|[0.0,195.48278640...|[0.0,0.9774139320...|       1.0|\n",
            "|[0.0,0.2,0.142857...|             1.0|[0.0,195.04771786...|[0.0,0.9752385893...|       1.0|\n",
            "|[0.0,0.2,0.214285...|             1.0|[0.0,194.94535775...|[0.0,0.9747267887...|       1.0|\n",
            "|[0.0,0.2,0.214285...|             1.0|[0.0,195.16186148...|[0.0,0.9758093074...|       1.0|\n",
            "+--------------------+----------------+--------------------+--------------------+----------+\n",
            "only showing top 5 rows\n",
            "\n"
          ]
        }
      ]
    },
    {
      "cell_type": "code",
      "source": [
        "from pyspark.ml.evaluation import MulticlassClassificationEvaluator\n",
        "evaluator = MulticlassClassificationEvaluator(labelCol='SMK_stat_type_cd',predictionCol='prediction', metricName=\"accuracy\")\n",
        "accuracy = evaluator.evaluate(predictions)\n",
        "\n",
        "# Display the accuracy\n",
        "print(\"Random Forest Accuracy:\", accuracy)"
      ],
      "metadata": {
        "colab": {
          "base_uri": "https://localhost:8080/"
        },
        "id": "oZe0J9uhU8eK",
        "outputId": "bed40499-baeb-4637-9e44-520ce6fcece2"
      },
      "execution_count": null,
      "outputs": [
        {
          "output_type": "stream",
          "name": "stdout",
          "text": [
            "Random Forest Accuracy: 1.0\n"
          ]
        }
      ]
    },
    {
      "cell_type": "code",
      "source": [
        "import seaborn as sns\n",
        "import matplotlib.pyplot as plt\n",
        "from pyspark.mllib.evaluation import MulticlassMetrics\n",
        "\n",
        "predictionAndLabels = predictions.select(\"prediction\", \"SMK_stat_type_cd\").rdd\n",
        "\n",
        "metrics = MulticlassMetrics(predictionAndLabels)\n",
        "\n",
        "confusion_matrix = metrics.confusionMatrix().toArray()\n",
        "plt.figure(figsize=(5, 4))\n",
        "sns.heatmap(confusion_matrix, annot=True, fmt=\"g\", cmap=\"Blues\", xticklabels=[1,2,3], yticklabels=[1,2,3])\n",
        "plt.xlabel(\"Predicted Label\")\n",
        "plt.ylabel(\"True Label\")\n",
        "plt.title(\"Confusion Matrix\")\n",
        "plt.show()"
      ],
      "metadata": {
        "colab": {
          "base_uri": "https://localhost:8080/",
          "height": 410
        },
        "id": "P665MuTimLx4",
        "outputId": "6123cc99-ac76-4585-b553-69c4c26bfc5d"
      },
      "execution_count": null,
      "outputs": [
        {
          "output_type": "display_data",
          "data": {
            "text/plain": [
              "<Figure size 500x400 with 2 Axes>"
            ],
            "image/png": "[encoded data removed]"
          },
          "metadata": {}
        }
      ]
    },
    {
      "cell_type": "code",
      "source": [
        "from pyspark.ml.classification import DecisionTreeClassifier\n",
        "dt = DecisionTreeClassifier(featuresCol=\"scaled_features\", labelCol='SMK_stat_type_cd',maxDepth=5)\n",
        "model = dt.fit(train_data)\n"
      ],
      "metadata": {
        "id": "cH0L4a97tXzp"
      },
      "execution_count": null,
      "outputs": []
    },
    {
      "cell_type": "code",
      "source": [
        "predictions = model.transform(test_data)\n",
        "predictions.show(5)"
      ],
      "metadata": {
        "colab": {
          "base_uri": "https://localhost:8080/"
        },
        "id": "ufap-M7GvkSP",
        "outputId": "31d0fecb-00d6-4323-d885-1444e029f4ff"
      },
      "execution_count": null,
      "outputs": [
        {
          "output_type": "stream",
          "name": "stdout",
          "text": [
            "+--------------------+----------------+--------------------+-----------------+----------+\n",
            "|     scaled_features|SMK_stat_type_cd|       rawPrediction|      probability|prediction|\n",
            "+--------------------+----------------+--------------------+-----------------+----------+\n",
            "|[0.0,0.2,0.071428...|             1.0|[0.0,439770.0,0.0...|[0.0,1.0,0.0,0.0]|       1.0|\n",
            "|[0.0,0.2,0.142857...|             1.0|[0.0,439770.0,0.0...|[0.0,1.0,0.0,0.0]|       1.0|\n",
            "|[0.0,0.2,0.142857...|             1.0|[0.0,439770.0,0.0...|[0.0,1.0,0.0,0.0]|       1.0|\n",
            "|[0.0,0.2,0.214285...|             1.0|[0.0,439770.0,0.0...|[0.0,1.0,0.0,0.0]|       1.0|\n",
            "|[0.0,0.2,0.214285...|             1.0|[0.0,439770.0,0.0...|[0.0,1.0,0.0,0.0]|       1.0|\n",
            "+--------------------+----------------+--------------------+-----------------+----------+\n",
            "only showing top 5 rows\n",
            "\n"
          ]
        }
      ]
    },
    {
      "cell_type": "code",
      "source": [
        "from pyspark.ml.evaluation import MulticlassClassificationEvaluator\n",
        "evaluator = MulticlassClassificationEvaluator(labelCol='SMK_stat_type_cd',predictionCol='prediction', metricName=\"accuracy\")\n",
        "accuracy = evaluator.evaluate(predictions)\n",
        "\n",
        "# Display the accuracy\n",
        "print(\"Decision tree Accuracy:\", accuracy)"
      ],
      "metadata": {
        "colab": {
          "base_uri": "https://localhost:8080/"
        },
        "id": "cIudSsOwvENx",
        "outputId": "07cae904-7be4-42f3-9570-00ced401f44c"
      },
      "execution_count": null,
      "outputs": [
        {
          "output_type": "stream",
          "name": "stdout",
          "text": [
            "Decision tree Accuracy: 1.0\n"
          ]
        }
      ]
    },
    {
      "cell_type": "code",
      "source": [
        "import seaborn as sns\n",
        "import matplotlib.pyplot as plt\n",
        "from pyspark.mllib.evaluation import MulticlassMetrics\n",
        "\n",
        "predictionAndLabels = predictions.select(\"prediction\", \"SMK_stat_type_cd\").rdd\n",
        "\n",
        "metrics = MulticlassMetrics(predictionAndLabels)\n",
        "\n",
        "confusion_matrix = metrics.confusionMatrix().toArray()\n",
        "plt.figure(figsize=(5, 4))\n",
        "sns.heatmap(confusion_matrix, annot=True, fmt=\"g\", cmap=\"Blues\", xticklabels=[1,2,3], yticklabels=[1,2,3])\n",
        "plt.xlabel(\"Predicted Label\")\n",
        "plt.ylabel(\"True Label\")\n",
        "plt.title(\"Confusion Matrix\")\n",
        "plt.show()"
      ],
      "metadata": {
        "colab": {
          "base_uri": "https://localhost:8080/",
          "height": 410
        },
        "id": "mwsZgFZdw6aJ",
        "outputId": "71259569-15b4-40e7-fe74-01fa7ec3561c"
      },
      "execution_count": null,
      "outputs": [
        {
          "output_type": "display_data",
          "data": {
            "text/plain": [
              "<Figure size 500x400 with 2 Axes>"
            ],
            "image/png": "[encoded data removed]"
          },
          "metadata": {}
        }
      ]
    }
  ]
}